{
  "nbformat": 4,
  "nbformat_minor": 0,
  "metadata": {
    "colab": {
      "name": "Bab 2.3. Linear Algebra .ipynb",
      "provenance": [],
      "authorship_tag": "ABX9TyNBcz5Bpm8AOh0QB5yHcF3B",
      "include_colab_link": true
    },
    "kernelspec": {
      "name": "python3",
      "display_name": "Python 3"
    },
    "language_info": {
      "name": "python"
    }
  },
  "cells": [
    {
      "cell_type": "markdown",
      "metadata": {
        "id": "view-in-github",
        "colab_type": "text"
      },
      "source": [
        "<a href=\"https://colab.research.google.com/github/HendricoYehezky/Tugas-1/blob/main/Bab_2_3_Linear_Algebra_.ipynb\" target=\"_parent\"><img src=\"https://colab.research.google.com/assets/colab-badge.svg\" alt=\"Open In Colab\"/></a>"
      ]
    },
    {
      "cell_type": "code",
      "execution_count": null,
      "metadata": {
        "colab": {
          "base_uri": "https://localhost:8080/"
        },
        "id": "VAZQHu_YuBYv",
        "outputId": "0c429762-2102-49e2-8378-48662f19be30"
      },
      "outputs": [
        {
          "output_type": "execute_result",
          "data": {
            "text/plain": [
              "(tensor(5.), tensor(6.), tensor(1.5000), tensor(9.))"
            ]
          },
          "metadata": {},
          "execution_count": 3
        }
      ],
      "source": [
        "### Sebuah skalar direpresentasikan dengan sebuah tensor yang berisikan satu elemen saja ###\n",
        "### Dalam skalar, kita dapat menggunakan operasi arimatika seperti penjumlahan, perkalian, pembagian atau eksponesialisasi ###\n",
        "import torch\n",
        "\n",
        "x = torch.tensor(3.0)\n",
        "y = torch.tensor(2.0)\n",
        "\n",
        "x + y, x * y, x / y, x**y"
      ]
    },
    {
      "cell_type": "code",
      "source": [
        "### Vektor dapat dianggap sebagai sebuah daftar atas nilai-nilai skalar di dalamnya ###\n",
        "### Nilai-nilai tersebut disebut juga sebagai entries atau komponen ###\n",
        "### Contoh berikut adalah sebuah tensor satu dimensi yang memiliki empat elemen di dalamnya ###\n",
        "x = torch.arange(4)\n",
        "x"
      ],
      "metadata": {
        "colab": {
          "base_uri": "https://localhost:8080/"
        },
        "id": "84T7BHFiu2Ml",
        "outputId": "1c8c35ca-4edd-4a40-a223-7f609b137284"
      },
      "execution_count": null,
      "outputs": [
        {
          "output_type": "execute_result",
          "data": {
            "text/plain": [
              "tensor([0, 1, 2, 3])"
            ]
          },
          "metadata": {},
          "execution_count": 4
        }
      ]
    },
    {
      "cell_type": "code",
      "source": [
        "### Kita juga dapat mengakses elemen di dalam tensor tersebut dengan menyebut indeks di dalam tensor tersebut ###\n",
        "x[3]"
      ],
      "metadata": {
        "colab": {
          "base_uri": "https://localhost:8080/"
        },
        "id": "022wp6niuhoe",
        "outputId": "6f818ec9-fcb7-4d59-9a34-6760cd00a816"
      },
      "execution_count": null,
      "outputs": [
        {
          "output_type": "execute_result",
          "data": {
            "text/plain": [
              "tensor(3)"
            ]
          },
          "metadata": {},
          "execution_count": 5
        }
      ]
    },
    {
      "cell_type": "code",
      "source": [
        "### Fungsi yang memanggil  panjang dimensi dan bentuk sebuah tensor ###\n",
        "### Banyaknya data dalam tensor mewakili length dalam tensor ###\n",
        "### Banyaknya sumbu di dalam tensor menyatakan dimensionality dalam tensor ###\n",
        "print(len(x))\n",
        "torch.Size([4])"
      ],
      "metadata": {
        "colab": {
          "base_uri": "https://localhost:8080/"
        },
        "id": "aZpGPXf8vp--",
        "outputId": "4e5aa68a-deb6-421e-f5f4-ae88e9a9f8d1"
      },
      "execution_count": null,
      "outputs": [
        {
          "output_type": "stream",
          "name": "stdout",
          "text": [
            "4\n"
          ]
        },
        {
          "output_type": "execute_result",
          "data": {
            "text/plain": [
              "torch.Size([4])"
            ]
          },
          "metadata": {},
          "execution_count": 8
        }
      ]
    },
    {
      "cell_type": "code",
      "source": [
        "### Dalam penyusunan nilai-nilai numerik di dalam sebuah matriks dengan ukuran m × n, kita dapat menginisiasikan sebuah tensor yang fungsinya dapat merepresentasikan sebagai sebuha matriks ###\n",
        "A = torch.arange(20).reshape(5, 4)\n",
        "A"
      ],
      "metadata": {
        "colab": {
          "base_uri": "https://localhost:8080/"
        },
        "id": "tQJZ4ejmwPgu",
        "outputId": "448148da-1c24-4e1c-ca3e-0a266224ce7b"
      },
      "execution_count": null,
      "outputs": [
        {
          "output_type": "execute_result",
          "data": {
            "text/plain": [
              "tensor([[ 0,  1,  2,  3],\n",
              "        [ 4,  5,  6,  7],\n",
              "        [ 8,  9, 10, 11],\n",
              "        [12, 13, 14, 15],\n",
              "        [16, 17, 18, 19]])"
            ]
          },
          "metadata": {},
          "execution_count": 9
        }
      ]
    },
    {
      "cell_type": "code",
      "source": [
        "### Fungsi Matriks Transpos ###\n",
        "A.T"
      ],
      "metadata": {
        "colab": {
          "base_uri": "https://localhost:8080/"
        },
        "id": "uGlxrZ0ewyOl",
        "outputId": "912c0caf-5dcc-4cee-8d6a-1269525476d8"
      },
      "execution_count": null,
      "outputs": [
        {
          "output_type": "execute_result",
          "data": {
            "text/plain": [
              "tensor([[ 0,  4,  8, 12, 16],\n",
              "        [ 1,  5,  9, 13, 17],\n",
              "        [ 2,  6, 10, 14, 18],\n",
              "        [ 3,  7, 11, 15, 19]])"
            ]
          },
          "metadata": {},
          "execution_count": 10
        }
      ]
    },
    {
      "cell_type": "code",
      "source": [
        "### Fungsi yang mengecek apakah matriks A adalah simetris atau tidak (A = A.T) ###\n",
        "B = torch.tensor([[1, 2, 3], [2, 0, 4], [3, 4, 5]])\n",
        "B\n",
        "B == B.T"
      ],
      "metadata": {
        "colab": {
          "base_uri": "https://localhost:8080/"
        },
        "id": "l_G0Qw0exASl",
        "outputId": "456903e3-01b1-4969-cb33-8cec66bebc5a"
      },
      "execution_count": null,
      "outputs": [
        {
          "output_type": "execute_result",
          "data": {
            "text/plain": [
              "tensor([[True, True, True],\n",
              "        [True, True, True],\n",
              "        [True, True, True]])"
            ]
          },
          "metadata": {},
          "execution_count": 11
        }
      ]
    },
    {
      "cell_type": "code",
      "source": [
        ""
      ],
      "metadata": {
        "id": "ga9_LDnRxYHV"
      },
      "execution_count": null,
      "outputs": []
    }
  ]
}