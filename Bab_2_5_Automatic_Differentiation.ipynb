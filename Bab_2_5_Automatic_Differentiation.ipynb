{
  "nbformat": 4,
  "nbformat_minor": 0,
  "metadata": {
    "colab": {
      "name": "Bab 2.5. Automatic Differentiation.ipynb",
      "provenance": [],
      "authorship_tag": "ABX9TyNhwNTjBCEliPVFq+dDjftM",
      "include_colab_link": true
    },
    "kernelspec": {
      "name": "python3",
      "display_name": "Python 3"
    },
    "language_info": {
      "name": "python"
    }
  },
  "cells": [
    {
      "cell_type": "markdown",
      "metadata": {
        "id": "view-in-github",
        "colab_type": "text"
      },
      "source": [
        "<a href=\"https://colab.research.google.com/github/HendricoYehezky/Tugas-1/blob/main/Bab_2_5_Automatic_Differentiation.ipynb\" target=\"_parent\"><img src=\"https://colab.research.google.com/assets/colab-badge.svg\" alt=\"Open In Colab\"/></a>"
      ]
    },
    {
      "cell_type": "code",
      "execution_count": 4,
      "metadata": {
        "colab": {
          "base_uri": "https://localhost:8080/"
        },
        "id": "WjZ6Eg-_BfXl",
        "outputId": "d55f5203-ee98-406c-f9ad-6b6bcc9bad5e"
      },
      "outputs": [
        {
          "output_type": "execute_result",
          "data": {
            "text/plain": [
              "array([0., 1., 2., 3.])"
            ]
          },
          "metadata": {},
          "execution_count": 4
        }
      ],
      "source": [
        "### Contoh diferensiasi Sederhana ###\n",
        "from mxnet import autograd, np, npx\n",
        "\n",
        "npx.set_np()\n",
        "\n",
        "x = np.arange(4.0)\n",
        "x"
      ]
    },
    {
      "cell_type": "code",
      "source": [
        "# We allocate memory for a tensor's gradient by invoking `attach_grad`\n",
        "x.attach_grad()\n",
        "# After we calculate a gradient taken with respect to `x`, we will be able to\n",
        "# access it via the `grad` attribute, whose values are initialized with 0s\n",
        "x.grad"
      ],
      "metadata": {
        "colab": {
          "base_uri": "https://localhost:8080/"
        },
        "id": "m4R7rw47CBLB",
        "outputId": "e633dd53-4f52-487e-86b7-bd888b301dca"
      },
      "execution_count": 5,
      "outputs": [
        {
          "output_type": "execute_result",
          "data": {
            "text/plain": [
              "array([0., 0., 0., 0.])"
            ]
          },
          "metadata": {},
          "execution_count": 5
        }
      ]
    },
    {
      "cell_type": "code",
      "source": [
        "# Place our code inside an `autograd.record` scope to build the computational\n",
        "# graph\n",
        "with autograd.record():\n",
        "    y = 2 * np.dot(x, x)\n",
        "y"
      ],
      "metadata": {
        "colab": {
          "base_uri": "https://localhost:8080/"
        },
        "id": "VzDJGwesCGTv",
        "outputId": "266a3ff9-2e5b-41fe-cdde-08fa2fbea5d8"
      },
      "execution_count": 6,
      "outputs": [
        {
          "output_type": "execute_result",
          "data": {
            "text/plain": [
              "array(28.)"
            ]
          },
          "metadata": {},
          "execution_count": 6
        }
      ]
    },
    {
      "cell_type": "code",
      "source": [
        "y.backward()\n",
        "x.grad"
      ],
      "metadata": {
        "colab": {
          "base_uri": "https://localhost:8080/"
        },
        "id": "FOUxQX4sCI8_",
        "outputId": "da008b3c-e4b9-4423-8556-539a4a7bf3ad"
      },
      "execution_count": 7,
      "outputs": [
        {
          "output_type": "execute_result",
          "data": {
            "text/plain": [
              "array([ 0.,  4.,  8., 12.])"
            ]
          },
          "metadata": {},
          "execution_count": 7
        }
      ]
    },
    {
      "cell_type": "code",
      "source": [
        "x.grad == 4 * x"
      ],
      "metadata": {
        "colab": {
          "base_uri": "https://localhost:8080/"
        },
        "id": "v-zDe9cTCL9n",
        "outputId": "9556133b-f9cf-4bf9-c3cf-aaf32f91c80b"
      },
      "execution_count": 8,
      "outputs": [
        {
          "output_type": "execute_result",
          "data": {
            "text/plain": [
              "array([ True,  True,  True,  True])"
            ]
          },
          "metadata": {},
          "execution_count": 8
        }
      ]
    },
    {
      "cell_type": "code",
      "source": [
        "with autograd.record():\n",
        "    y = x.sum()\n",
        "y.backward()\n",
        "x.grad  # Overwritten by the newly calculated gradient"
      ],
      "metadata": {
        "colab": {
          "base_uri": "https://localhost:8080/"
        },
        "id": "_ntN3qLrCOGm",
        "outputId": "bf4a1683-2669-420f-a714-856cd2c54691"
      },
      "execution_count": 9,
      "outputs": [
        {
          "output_type": "execute_result",
          "data": {
            "text/plain": [
              "array([1., 1., 1., 1.])"
            ]
          },
          "metadata": {},
          "execution_count": 9
        }
      ]
    },
    {
      "cell_type": "code",
      "source": [
        "### Backward untuk Variabel Non-Skalar ###\n",
        "# When we invoke `backward` on a vector-valued variable `y` (function of `x`),\n",
        "# a new scalar variable is created by summing the elements in `y`. Then the\n",
        "# gradient of that scalar variable with respect to `x` is computed\n",
        "with autograd.record():\n",
        "    y = x * x  # `y` is a vector\n",
        "y.backward()\n",
        "x.grad  # Equals to y = sum(x * x)"
      ],
      "metadata": {
        "colab": {
          "base_uri": "https://localhost:8080/"
        },
        "id": "G5plKqlRCQnH",
        "outputId": "24519ed5-c30f-4df8-dd5f-bbd9dde30bd3"
      },
      "execution_count": 10,
      "outputs": [
        {
          "output_type": "execute_result",
          "data": {
            "text/plain": [
              "array([0., 2., 4., 6.])"
            ]
          },
          "metadata": {},
          "execution_count": 10
        }
      ]
    },
    {
      "cell_type": "code",
      "source": [
        "### Detaching Computation ###\n",
        "with autograd.record():\n",
        "    y = x * x\n",
        "    u = y.detach()\n",
        "    z = u * x\n",
        "z.backward()\n",
        "x.grad == u"
      ],
      "metadata": {
        "colab": {
          "base_uri": "https://localhost:8080/"
        },
        "id": "OfCtm5w6CZNO",
        "outputId": "35ab2eb2-4b1a-4253-a7e2-9fb8ae67a210"
      },
      "execution_count": 11,
      "outputs": [
        {
          "output_type": "execute_result",
          "data": {
            "text/plain": [
              "array([ True,  True,  True,  True])"
            ]
          },
          "metadata": {},
          "execution_count": 11
        }
      ]
    },
    {
      "cell_type": "code",
      "source": [
        "### Since the computation of y was recorded, we can subsequently invoke backpropagation on y to get the derivative of y = x * x with respect to x, which is 2 * x. ###\n",
        "y.backward()\n",
        "x.grad == 2 * x"
      ],
      "metadata": {
        "colab": {
          "base_uri": "https://localhost:8080/"
        },
        "id": "QGwTVPQZCpGn",
        "outputId": "39cf5697-1e46-4a08-84b6-80df031c3fe9"
      },
      "execution_count": 12,
      "outputs": [
        {
          "output_type": "execute_result",
          "data": {
            "text/plain": [
              "array([ True,  True,  True,  True])"
            ]
          },
          "metadata": {},
          "execution_count": 12
        }
      ]
    },
    {
      "cell_type": "code",
      "source": [
        "### Computing the Gradient of Python Control Flow ###\n",
        "def f(a):\n",
        "    b = a * 2\n",
        "    while b.norm() < 1000:\n",
        "        b = b * 2\n",
        "    if b.sum() > 0:\n",
        "        c = b\n",
        "    else:\n",
        "        c = 100 * b\n",
        "    return c"
      ],
      "metadata": {
        "id": "-VgeH6-QCvDP"
      },
      "execution_count": 14,
      "outputs": []
    },
    {
      "cell_type": "code",
      "source": [
        "### Compute the Gradient ###\n",
        "import torch\n",
        "a = torch.randn(size=(), requires_grad=True)\n",
        "d = f(a)\n",
        "d.backward()\n",
        "\n",
        "print(a)\n",
        "print (d)"
      ],
      "metadata": {
        "colab": {
          "base_uri": "https://localhost:8080/"
        },
        "id": "OkwbIuseC7yn",
        "outputId": "502a2a21-dae3-4a16-a1d2-70f4b48138b2"
      },
      "execution_count": 17,
      "outputs": [
        {
          "output_type": "stream",
          "name": "stdout",
          "text": [
            "tensor(-2.1045, requires_grad=True)\n",
            "tensor(-107748.1797, grad_fn=<MulBackward0>)\n"
          ]
        }
      ]
    },
    {
      "cell_type": "code",
      "source": [
        "### melakukan verifikasi nilai tradien benar atau tidak ###\n",
        "a.grad == d / a"
      ],
      "metadata": {
        "colab": {
          "base_uri": "https://localhost:8080/"
        },
        "id": "-i86k3Z6DRJP",
        "outputId": "a483a1ed-e4cd-49f2-fac5-33a29aa6eaef"
      },
      "execution_count": 18,
      "outputs": [
        {
          "output_type": "execute_result",
          "data": {
            "text/plain": [
              "tensor(True)"
            ]
          },
          "metadata": {},
          "execution_count": 18
        }
      ]
    }
  ]
}