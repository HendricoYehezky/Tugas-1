{
  "nbformat": 4,
  "nbformat_minor": 0,
  "metadata": {
    "colab": {
      "name": "Bab 2.2 (Data Preprocessing) .ipynb",
      "provenance": [],
      "authorship_tag": "ABX9TyPZ7JsDM+FdXXcojq7hbuPh",
      "include_colab_link": true
    },
    "kernelspec": {
      "name": "python3",
      "display_name": "Python 3"
    },
    "language_info": {
      "name": "python"
    }
  },
  "cells": [
    {
      "cell_type": "markdown",
      "metadata": {
        "id": "view-in-github",
        "colab_type": "text"
      },
      "source": [
        "<a href=\"https://colab.research.google.com/github/HendricoYehezky/Tugas-1/blob/main/Bab_2_2_(Data_Preprocessing)_.ipynb\" target=\"_parent\"><img src=\"https://colab.research.google.com/assets/colab-badge.svg\" alt=\"Open In Colab\"/></a>"
      ]
    },
    {
      "cell_type": "code",
      "execution_count": 4,
      "metadata": {
        "id": "8O9S6hZchUL5"
      },
      "outputs": [],
      "source": [
        "### Aplikasi dalam melakukan manipulasi data yang tersimpan dalam tensor akan sangat berguna dalam menyelesaikan permasalahan sehari-hari ###\n",
        "### Dimulai dengan preprocessing data mentah ###\n",
        "### Dalam python untuk analisis data dikenal dengan modul Panda dimana data yang tersimpan dala CSV Format akan diformatkan ke dalam Tensor ###\n",
        "import os\n",
        "\n",
        "os.makedirs(os.path.join('..', 'data'), exist_ok=True)\n",
        "data_file = os.path.join('..', 'data', 'house_tiny.csv')\n",
        "with open(data_file, 'w') as f:\n",
        "    f.write('NumRooms,Alley,Price\\n')  # Column names\n",
        "    f.write('NA,Pave,127500\\n')  # Each row represents a data example\n",
        "    f.write('2,NA,106000\\n')\n",
        "    f.write('4,NA,178100\\n')\n",
        "    f.write('NA,NA,140000\\n')"
      ]
    },
    {
      "cell_type": "code",
      "source": [
        "### Membaca Data Set ###\n",
        "import pandas as pd\n",
        "\n",
        "data = pd.read_csv(data_file)\n",
        "print(data)"
      ],
      "metadata": {
        "colab": {
          "base_uri": "https://localhost:8080/"
        },
        "id": "ejmv_YcriLJ7",
        "outputId": "82725a6a-002f-4cfb-c94e-98dc1a2f00bb"
      },
      "execution_count": 3,
      "outputs": [
        {
          "output_type": "stream",
          "name": "stdout",
          "text": [
            "   NumRooms Alley   Price\n",
            "0       NaN  Pave  127500\n",
            "1       2.0   NaN  106000\n",
            "2       4.0   NaN  178100\n",
            "3       NaN   NaN  140000\n"
          ]
        }
      ]
    },
    {
      "cell_type": "code",
      "source": [
        "### Mengatasi Missing Data ###\n",
        "### Terdapat dua cara untuk mengatasi missing data yaitu kita imputation dan deletion data missing tersebut ###\n",
        "### Imputasi berarti kita mengganti missing data dengan data lain dan deletion berarti kita menghapus data missing tersebut ###\n",
        "### Dengan menggunakan fungsi (iloc) yaitu integer location based indexing, kita membagi data kedalam nilai input dan output ###\n",
        "### Untuk kasus data numerik, input yang missing akan menggantikan nilai yang hilang yaitu NaN dengan rata-rata nilai yang sekolom dengan missing data tersebut ###\n",
        "inputs, outputs = data.iloc[:, 0:2], data.iloc[:, 2]\n",
        "inputs = inputs.fillna(inputs.mean())\n",
        "print(inputs)"
      ],
      "metadata": {
        "colab": {
          "base_uri": "https://localhost:8080/"
        },
        "id": "4aaUOloCq6Zv",
        "outputId": "d28227fc-4fc5-4e96-d634-9cdc20f3e753"
      },
      "execution_count": 5,
      "outputs": [
        {
          "output_type": "stream",
          "name": "stdout",
          "text": [
            "   NumRooms Alley\n",
            "0       3.0  Pave\n",
            "1       2.0   NaN\n",
            "2       4.0   NaN\n",
            "3       3.0   NaN\n"
          ]
        },
        {
          "output_type": "stream",
          "name": "stderr",
          "text": [
            "/usr/local/lib/python3.7/dist-packages/ipykernel_launcher.py:7: FutureWarning: Dropping of nuisance columns in DataFrame reductions (with 'numeric_only=None') is deprecated; in a future version this will raise TypeError.  Select only valid columns before calling the reduction.\n",
            "  import sys\n"
          ]
        }
      ]
    },
    {
      "cell_type": "code",
      "source": [
        "### Untuk kasus kategorik atau diskrit, kita akan menggunakan kategori Alley Pave dan Alley NaN yang masing-masing mengartikan adanya data dengan nilai 1 pada alley_pave dan nilai 0 pada alley_nan serta data missing dengan alley_pave bernilai 0 dan alley_nan bernilai 1 ###\n",
        "inputs = pd.get_dummies(inputs, dummy_na=True)\n",
        "print(inputs)"
      ],
      "metadata": {
        "colab": {
          "base_uri": "https://localhost:8080/"
        },
        "id": "avbaiKDhsxoY",
        "outputId": "f2fb94a6-3e82-4586-ea96-d1d94b8b55a5"
      },
      "execution_count": 6,
      "outputs": [
        {
          "output_type": "stream",
          "name": "stdout",
          "text": [
            "   NumRooms  Alley_Pave  Alley_nan\n",
            "0       3.0           1          0\n",
            "1       2.0           0          1\n",
            "2       4.0           0          1\n",
            "3       3.0           0          1\n"
          ]
        }
      ]
    },
    {
      "cell_type": "code",
      "source": [
        "### Konversi Data ke dalam Format Tensor ###\n",
        "import torch\n",
        "X, y = torch.tensor(inputs.values), torch.tensor(outputs.values)\n",
        "X, y"
      ],
      "metadata": {
        "colab": {
          "base_uri": "https://localhost:8080/"
        },
        "id": "y1xMIurwtT8u",
        "outputId": "2dab8410-afae-4dd6-baf5-7968e779fcb9"
      },
      "execution_count": 8,
      "outputs": [
        {
          "output_type": "execute_result",
          "data": {
            "text/plain": [
              "(tensor([[3., 1., 0.],\n",
              "         [2., 0., 1.],\n",
              "         [4., 0., 1.],\n",
              "         [3., 0., 1.]], dtype=torch.float64),\n",
              " tensor([127500, 106000, 178100, 140000]))"
            ]
          },
          "metadata": {},
          "execution_count": 8
        }
      ]
    }
  ]
}