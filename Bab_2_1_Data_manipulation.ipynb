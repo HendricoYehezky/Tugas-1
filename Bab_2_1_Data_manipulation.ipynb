{
  "nbformat": 4,
  "nbformat_minor": 0,
  "metadata": {
    "colab": {
      "name": "Bab 2.1. Data manipulation.ipynb",
      "provenance": [],
      "collapsed_sections": [],
      "authorship_tag": "ABX9TyPxTmc2rKG1g/tJ8dtOOW4c",
      "include_colab_link": true
    },
    "kernelspec": {
      "name": "python3",
      "display_name": "Python 3"
    },
    "language_info": {
      "name": "python"
    }
  },
  "cells": [
    {
      "cell_type": "markdown",
      "metadata": {
        "id": "view-in-github",
        "colab_type": "text"
      },
      "source": [
        "<a href=\"https://colab.research.google.com/github/HendricoYehezky/Tugas-1/blob/main/Bab_2_1_Data_manipulation.ipynb\" target=\"_parent\"><img src=\"https://colab.research.google.com/assets/colab-badge.svg\" alt=\"Open In Colab\"/></a>"
      ]
    },
    {
      "cell_type": "code",
      "execution_count": null,
      "metadata": {
        "colab": {
          "base_uri": "https://localhost:8080/"
        },
        "id": "9m1C1HCTFbqm",
        "outputId": "e02c32cc-800e-481b-ba1b-0d3bd0745ca0"
      },
      "outputs": [
        {
          "output_type": "stream",
          "name": "stdout",
          "text": [
            "tensor([ 0.,  1.,  2.,  3.,  4.,  5.,  6.,  7.,  8.,  9., 10., 11.])\n"
          ]
        }
      ],
      "source": [
        "### Untuk memulai platform PYTORCH, kita dapat memanggil modul torch ###\n",
        "### Sebuah tensor merepresentasikan sebuah (multi dimensi) susunan dengan nilai-nilai numerik di dalamnya ####\n",
        "### Sebuah susunan nilai-nilai numerik dengan satu sumbu atas sebuah tensor dapat disebut sebagai sebuah vektor ###\n",
        "### Sebuah tensor yang memiliki dua sumbu disebut sebagai sebuah matriks ###\n",
        "### Sebuah tensor yang memiliki sejumlah sumbu katakanlah k sumbu, maka dapat disebut sebagai tensor dengan orde-k ###\n",
        "import torch\n",
        "\n",
        "### Untuk membuat sebuah vektor dalam platform PYTORCH, kita dapat membuat susunan nilai-nilai numerik di dalanya yang dimulai dari 0 sampai dengan n###\n",
        "x = torch.arange(12, dtype=torch.float32)\n",
        "print (x)"
      ]
    },
    {
      "cell_type": "markdown",
      "source": [
        ""
      ],
      "metadata": {
        "id": "kxE5X5jwaGoN"
      }
    },
    {
      "cell_type": "code",
      "source": [
        "### Kita dapat mengecek ukuran sebuah tensor (panjang data atas tiap sumbu) dengan melakukan inspeksi properti bentuk (shape) sebuah tensor ###\n",
        "x.shape"
      ],
      "metadata": {
        "colab": {
          "base_uri": "https://localhost:8080/"
        },
        "id": "e4Gy8XTnJ7Es",
        "outputId": "b798e7a8-bb7b-4f93-d6e0-19e1a0b83cf9"
      },
      "execution_count": null,
      "outputs": [
        {
          "output_type": "execute_result",
          "data": {
            "text/plain": [
              "torch.Size([12])"
            ]
          },
          "metadata": {},
          "execution_count": 5
        }
      ]
    },
    {
      "cell_type": "code",
      "source": [
        "### Jika kita ingin mengetahui jumlah elemn di dalam sebuah tensor, yaitu hasil perkalian dari ukuran elemen-elemen didalamnya dengan perintah sebagai berikut ###\n",
        "x.numel()"
      ],
      "metadata": {
        "colab": {
          "base_uri": "https://localhost:8080/"
        },
        "id": "hRjBBE-PKGlK",
        "outputId": "51e5c763-8698-4ca8-c4cc-338fcdc55732"
      },
      "execution_count": null,
      "outputs": [
        {
          "output_type": "execute_result",
          "data": {
            "text/plain": [
              "12"
            ]
          },
          "metadata": {},
          "execution_count": 9
        }
      ]
    },
    {
      "cell_type": "code",
      "source": [
        "\n",
        "### Untuk merubah bentuk dari sebuah tersor tanpa mengubah jumlah elemen-elemennya atau nilai-nilainya, kita dapat menggunakan modul berikut ini ####\n",
        "X = x.reshape(3, 4)\n",
        "print(X)"
      ],
      "metadata": {
        "colab": {
          "base_uri": "https://localhost:8080/"
        },
        "id": "C8pe7ndzKLGT",
        "outputId": "ca221cfa-458d-4336-e04b-356b41ef7c5f"
      },
      "execution_count": null,
      "outputs": [
        {
          "output_type": "stream",
          "name": "stdout",
          "text": [
            "tensor([[ 0.,  1.,  2.,  3.],\n",
            "        [ 4.,  5.,  6.,  7.],\n",
            "        [ 8.,  9., 10., 11.]])\n"
          ]
        }
      ]
    },
    {
      "cell_type": "code",
      "source": [
        "### Selanjutnya jika kita ingin menginisialisasikan matriks X di atas dengan mengganti input nilai numeriknya dengan nol, satu ataupun suatu konstanta, kita dapat menggunakan modul berikut ini ###\n",
        "torch.zeros((2, 3, 4))"
      ],
      "metadata": {
        "colab": {
          "base_uri": "https://localhost:8080/"
        },
        "id": "Ld3nSb2qRzqn",
        "outputId": "f21cc371-5946-4a45-c831-77f05d644735"
      },
      "execution_count": null,
      "outputs": [
        {
          "output_type": "execute_result",
          "data": {
            "text/plain": [
              "tensor([[[1., 1., 1., 1.],\n",
              "         [1., 1., 1., 1.],\n",
              "         [1., 1., 1., 1.]],\n",
              "\n",
              "        [[1., 1., 1., 1.],\n",
              "         [1., 1., 1., 1.],\n",
              "         [1., 1., 1., 1.]]])"
            ]
          },
          "metadata": {},
          "execution_count": 15
        }
      ]
    },
    {
      "cell_type": "code",
      "source": [
        "torch.ones((2, 3, 4))"
      ],
      "metadata": {
        "colab": {
          "base_uri": "https://localhost:8080/"
        },
        "id": "fmaqw-waSpyi",
        "outputId": "450ae3dd-2b88-4ccf-ee5d-39d564d46037"
      },
      "execution_count": null,
      "outputs": [
        {
          "output_type": "execute_result",
          "data": {
            "text/plain": [
              "tensor([[[1., 1., 1., 1.],\n",
              "         [1., 1., 1., 1.],\n",
              "         [1., 1., 1., 1.]],\n",
              "\n",
              "        [[1., 1., 1., 1.],\n",
              "         [1., 1., 1., 1.],\n",
              "         [1., 1., 1., 1.]]])"
            ]
          },
          "metadata": {},
          "execution_count": 16
        }
      ]
    },
    {
      "cell_type": "code",
      "source": [
        "### Seringkali, kita ingin menginput nilai -nilai numerik secara random atas elemen-elemen di dalam sebuah tensor dengan distribusi probabilitas tertentu ###\n",
        "### Sebagai contoh, kita akan mengisi setiap elemen secara random terdistribusi normal ( mean = 0, dan sd =1) dalam tensor dengan ukuran 3  untuk keempat vektor di bawah ini###\n",
        "torch.randn(3, 4)"
      ],
      "metadata": {
        "colab": {
          "base_uri": "https://localhost:8080/"
        },
        "id": "GR05goFySsDo",
        "outputId": "72dd3dfb-2ccf-4d40-99cc-395eacb1753d"
      },
      "execution_count": null,
      "outputs": [
        {
          "output_type": "execute_result",
          "data": {
            "text/plain": [
              "tensor([[ 0.6808,  0.7565, -0.0263,  1.3932],\n",
              "        [ 0.5714,  0.6415, -2.0569,  1.6451],\n",
              "        [ 1.2170, -0.0326, -0.3462, -1.1795]])"
            ]
          },
          "metadata": {},
          "execution_count": 19
        }
      ]
    },
    {
      "cell_type": "code",
      "source": [
        "### Kita juga dapat membuat setiap elemen dalam tensor dalam bentuk tensor juga, yang ditunjukkan sbagai berikut ###\n",
        "torch.tensor([[2,1,4,3],[1,2,3,4],[4,3,2,1]])"
      ],
      "metadata": {
        "colab": {
          "base_uri": "https://localhost:8080/"
        },
        "id": "kIFZatTETJ1I",
        "outputId": "4407b5ad-9c7d-4e43-c5e2-feaf4e280638"
      },
      "execution_count": null,
      "outputs": [
        {
          "output_type": "execute_result",
          "data": {
            "text/plain": [
              "tensor([[2, 1, 4, 3],\n",
              "        [1, 2, 3, 4],\n",
              "        [4, 3, 2, 1]])"
            ]
          },
          "metadata": {},
          "execution_count": 20
        }
      ]
    },
    {
      "cell_type": "code",
      "source": [
        "### Berikutnya juga terdapat operasi diantaranya ada operasi unary scalar dan binary scalar serta juga disertai operator aritmatika untuk melakukan operasi terhadap elemen-elemen didalamnya###\n",
        "x = torch.tensor([1.0, 2, 4, 8])\n",
        "y = torch.tensor([2, 2, 2, 2])\n",
        "x + y, x - y, x * y, x / y, x ** y "
      ],
      "metadata": {
        "colab": {
          "base_uri": "https://localhost:8080/"
        },
        "id": "9qsuTwQ4asDV",
        "outputId": "96b7cc19-745a-4e12-ecc3-cf738da8877d"
      },
      "execution_count": 21,
      "outputs": [
        {
          "output_type": "execute_result",
          "data": {
            "text/plain": [
              "(tensor([ 3.,  4.,  6., 10.]),\n",
              " tensor([-1.,  0.,  2.,  6.]),\n",
              " tensor([ 2.,  4.,  8., 16.]),\n",
              " tensor([0.5000, 1.0000, 2.0000, 4.0000]),\n",
              " tensor([ 1.,  4., 16., 64.]))"
            ]
          },
          "metadata": {},
          "execution_count": 21
        }
      ]
    },
    {
      "cell_type": "code",
      "source": [
        "### Eksponensiasi juga dapat dimasukkan ke dalam kelompok operator unary ketika kita melakukan proses perkalian element-wise yaitu perkalian yang didapatkan dari penjumlahan antar elemen baris dengan elemen kolom yang bersesuaian ###\n",
        "torch.exp(x)"
      ],
      "metadata": {
        "colab": {
          "base_uri": "https://localhost:8080/"
        },
        "id": "aw03S5pjbWJe",
        "outputId": "05398ec4-5179-4554-c9cb-9549890ad7f3"
      },
      "execution_count": 22,
      "outputs": [
        {
          "output_type": "execute_result",
          "data": {
            "text/plain": [
              "tensor([2.7183e+00, 7.3891e+00, 5.4598e+01, 2.9810e+03])"
            ]
          },
          "metadata": {},
          "execution_count": 22
        }
      ]
    },
    {
      "cell_type": "code",
      "source": [
        "### Perkalian element-wise yang melibatkan perkalian dot produk ataupun perkalian matrisks juga dapat dibuat secara concatenate yaitu mengabungkan elemen-elemen setelah dilakukan proses perkalian menjadi sebuah matriks baru tentunya dapat ditunjukkan sebagai berikut ###\n",
        "X = torch.arange(12, dtype=torch.float32).reshape((3,4))\n",
        "Y = torch.tensor([[2.0, 1, 4, 3], [1, 2, 3, 4], [4, 3, 2, 1]])\n",
        "torch.cat((X, Y), dim=0), torch.cat((X, Y), dim=1)"
      ],
      "metadata": {
        "colab": {
          "base_uri": "https://localhost:8080/"
        },
        "id": "giJb46ahb6BO",
        "outputId": "f2a432fb-c07a-4364-a286-1c99533c85d2"
      },
      "execution_count": 23,
      "outputs": [
        {
          "output_type": "execute_result",
          "data": {
            "text/plain": [
              "(tensor([[ 0.,  1.,  2.,  3.],\n",
              "         [ 4.,  5.,  6.,  7.],\n",
              "         [ 8.,  9., 10., 11.],\n",
              "         [ 2.,  1.,  4.,  3.],\n",
              "         [ 1.,  2.,  3.,  4.],\n",
              "         [ 4.,  3.,  2.,  1.]]),\n",
              " tensor([[ 0.,  1.,  2.,  3.,  2.,  1.,  4.,  3.],\n",
              "         [ 4.,  5.,  6.,  7.,  1.,  2.,  3.,  4.],\n",
              "         [ 8.,  9., 10., 11.,  4.,  3.,  2.,  1.]]))"
            ]
          },
          "metadata": {},
          "execution_count": 23
        }
      ]
    },
    {
      "cell_type": "code",
      "source": [
        "### Dalam kondisi tertentu, kita dapat menyusun susunan angka di dalam sebuah tensor ke dalam satu kolom atau satu baris ###\n",
        "a = torch.arange(3).reshape((3, 1))\n",
        "b = torch.arange(2).reshape((1, 2))\n",
        "a, b"
      ],
      "metadata": {
        "colab": {
          "base_uri": "https://localhost:8080/"
        },
        "id": "4jqQuzTvcq32",
        "outputId": "6b99a7a8-90c2-4c66-9fc2-1ee9f774beeb"
      },
      "execution_count": 24,
      "outputs": [
        {
          "output_type": "execute_result",
          "data": {
            "text/plain": [
              "(tensor([[0],\n",
              "         [1],\n",
              "         [2]]), tensor([[0, 1]]))"
            ]
          },
          "metadata": {},
          "execution_count": 24
        }
      ]
    },
    {
      "cell_type": "code",
      "source": [
        "### karena dimensi tensor a dan b berbeda, maka bentuk mereka tidak akan dapat dibuat penjumlahannya, namun dalam operator penjumlahan di torch, program akan mengasumsikan kedua matriks tersebut dapat disesuaikan dimensinya dengan mereplikasikan kolom dan barisnya sehingga dapat dijumlahkan ###\n",
        "a + b"
      ],
      "metadata": {
        "colab": {
          "base_uri": "https://localhost:8080/"
        },
        "id": "Em7rxMX2dAmG",
        "outputId": "5d89ea8c-41b0-42ca-e1b8-a47a4645ffea"
      },
      "execution_count": 25,
      "outputs": [
        {
          "output_type": "execute_result",
          "data": {
            "text/plain": [
              "tensor([[0, 1],\n",
              "        [1, 2],\n",
              "        [2, 3]])"
            ]
          },
          "metadata": {},
          "execution_count": 25
        }
      ]
    },
    {
      "cell_type": "code",
      "source": [
        "### Dalam susunan array yang dikenal oleh bahasa program Python, kita dapat mengakses sebuah matriks atau tensor dengan menyebutkan komponen yang akan dipilih ###\n",
        "### X[-1] mengartikan kita memilih elemen-elemen terakhir dalam sebuah matriks ###\n",
        "### X[1:3] mengartikan kita memilih elemen-elemen kedua dan ketiga ###\n",
        "X[-1], X[1:3]"
      ],
      "metadata": {
        "colab": {
          "base_uri": "https://localhost:8080/"
        },
        "id": "KLkKGH92dnSl",
        "outputId": "1c54c1f7-3f63-433d-c1a4-a75c58c41bbd"
      },
      "execution_count": 26,
      "outputs": [
        {
          "output_type": "execute_result",
          "data": {
            "text/plain": [
              "(tensor([ 8.,  9., 10., 11.]), tensor([[ 4.,  5.,  6.,  7.],\n",
              "         [ 8.,  9., 10., 11.]]))"
            ]
          },
          "metadata": {},
          "execution_count": 26
        }
      ]
    },
    {
      "cell_type": "code",
      "source": [
        "### Sebelum program membaca datam kita dapat menuliskan data dalam matriksnya sesuai dengan indeks yang diberikan ###\n",
        "X[1, 2] = 9\n",
        "X"
      ],
      "metadata": {
        "colab": {
          "base_uri": "https://localhost:8080/"
        },
        "id": "NT-2l5OPeMlN",
        "outputId": "9050b3aa-8bdb-465e-f179-8847d79972e4"
      },
      "execution_count": 27,
      "outputs": [
        {
          "output_type": "execute_result",
          "data": {
            "text/plain": [
              "tensor([[ 0.,  1.,  2.,  3.],\n",
              "        [ 4.,  5.,  9.,  7.],\n",
              "        [ 8.,  9., 10., 11.]])"
            ]
          },
          "metadata": {},
          "execution_count": 27
        }
      ]
    },
    {
      "cell_type": "code",
      "source": [
        "### Dalam menjalankan operator terhadap data yang disimpan dalam memory, maka pada umumnya hasi operasi tersebut akan dialokasikan ke dalam memory yang baru ###\n",
        "### Dalam pengecekan apakah hasil operator tersebut akan dialokasikan ke memory yang baru atau tidak, kita dapat mengeceknya dengan modul berikut ###\n",
        "before = id(Y)\n",
        "Y = Y + X\n",
        "id(Y) == before"
      ],
      "metadata": {
        "colab": {
          "base_uri": "https://localhost:8080/"
        },
        "id": "eJ5jzpI5eblc",
        "outputId": "eef4b562-b113-4cef-8852-5ef0f46ccd46"
      },
      "execution_count": 28,
      "outputs": [
        {
          "output_type": "execute_result",
          "data": {
            "text/plain": [
              "False"
            ]
          },
          "metadata": {},
          "execution_count": 28
        }
      ]
    },
    {
      "cell_type": "code",
      "source": [
        "### Pengecekan tersebut sangat bermanfaat apabila kita mengaplikasikan pembelajaran mesin yang mungkin membutuhkan ratusan megabyte untuk mengenal parameter dan melakukan update dengan perkalian untuk setiap detiknya ###\n",
        "### Sebagai ilustrasi, kita akan membuat sebuah matriks baru Z yang memiliki bentuk yang sama dengan matriks Y, dengan menggunakan zeros_like untuk mengalokasikan blok dengan entri 0 di dalamnya ####\n",
        "Z = torch.zeros_like(Y)\n",
        "print('id(Z):', id(Z))\n",
        "Z[:] = X + Y\n",
        "print('id(Z):', id(Z))"
      ],
      "metadata": {
        "colab": {
          "base_uri": "https://localhost:8080/"
        },
        "id": "elX53GSwfFUd",
        "outputId": "608fd435-27ef-48fa-d37b-64ffb22e8aa1"
      },
      "execution_count": 29,
      "outputs": [
        {
          "output_type": "stream",
          "name": "stdout",
          "text": [
            "id(Z): 140681878780336\n",
            "id(Z): 140681878780336\n"
          ]
        }
      ]
    },
    {
      "cell_type": "code",
      "source": [
        "### Mengkonversi objek yang ada dalam python (Torch) yang dapat berupa tensor dalam torch atau array dalam numpy sehingga dapat memaksimalkan performa manipulasi data dengan baik ###\n",
        "A = X.numpy()\n",
        "B = torch.from_numpy(A)\n",
        "type(A), type(B)"
      ],
      "metadata": {
        "colab": {
          "base_uri": "https://localhost:8080/"
        },
        "id": "EPpG-AVTgH9d",
        "outputId": "424db302-7bdb-48af-8c08-bf68cf37d44c"
      },
      "execution_count": 32,
      "outputs": [
        {
          "output_type": "execute_result",
          "data": {
            "text/plain": [
              "(numpy.ndarray, torch.Tensor)"
            ]
          },
          "metadata": {},
          "execution_count": 32
        }
      ]
    },
    {
      "cell_type": "code",
      "source": [
        "### Untuk mengubah sebuah tensor dengan ukuran 1 kedalam skalar, kita dapat menggunakan fungsi sebagai berikut ###\n",
        "a = torch.tensor([3.5])\n",
        "a, a.item(), float(a), int(a)"
      ],
      "metadata": {
        "colab": {
          "base_uri": "https://localhost:8080/"
        },
        "id": "-7lFng3dgVBS",
        "outputId": "f5077b72-3732-44f5-ea07-a20d6f68c58a"
      },
      "execution_count": 33,
      "outputs": [
        {
          "output_type": "execute_result",
          "data": {
            "text/plain": [
              "(tensor([3.5000]), 3.5, 3.5, 3)"
            ]
          },
          "metadata": {},
          "execution_count": 33
        }
      ]
    }
  ]
}