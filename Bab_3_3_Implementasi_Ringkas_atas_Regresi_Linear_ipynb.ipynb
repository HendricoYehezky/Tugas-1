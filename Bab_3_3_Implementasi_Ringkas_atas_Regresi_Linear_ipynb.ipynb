{
  "nbformat": 4,
  "nbformat_minor": 0,
  "metadata": {
    "colab": {
      "name": "Bab 3.3. Implementasi Ringkas atas Regresi Linear. ipynb",
      "provenance": [],
      "authorship_tag": "ABX9TyMtTwF/uQ9esqrYnXND/3Vk",
      "include_colab_link": true
    },
    "kernelspec": {
      "name": "python3",
      "display_name": "Python 3"
    },
    "language_info": {
      "name": "python"
    }
  },
  "cells": [
    {
      "cell_type": "markdown",
      "metadata": {
        "id": "view-in-github",
        "colab_type": "text"
      },
      "source": [
        "<a href=\"https://colab.research.google.com/github/HendricoYehezky/Tugas-1/blob/main/Bab_3_3_Implementasi_Ringkas_atas_Regresi_Linear_ipynb.ipynb\" target=\"_parent\"><img src=\"https://colab.research.google.com/assets/colab-badge.svg\" alt=\"Open In Colab\"/></a>"
      ]
    },
    {
      "cell_type": "code",
      "execution_count": 6,
      "metadata": {
        "id": "xUaNW25pQXtc"
      },
      "outputs": [],
      "source": [
        "### Membangun data set ###\n",
        "import numpy as np\n",
        "import torch\n",
        "from torch.utils import data\n",
        "from d2l import torch as d2l\n",
        "\n",
        "true_w = torch.tensor([2, -3.4])\n",
        "true_b = 4.2\n",
        "features, labels = d2l.synthetic_data(true_w, true_b, 1000)"
      ]
    },
    {
      "cell_type": "code",
      "source": [
        "### Membaca Dataset ###\n",
        "def load_array(data_arrays, batch_size, is_train=True):\n",
        "    \"\"\"Construct a PyTorch data iterator.\"\"\"\n",
        "    dataset = data.TensorDataset(*data_arrays)\n",
        "    return data.DataLoader(dataset, batch_size, shuffle=is_train)\n",
        "\n",
        "batch_size = 10\n",
        "data_iter = load_array((features, labels), batch_size)"
      ],
      "metadata": {
        "id": "nUBvYeVRQtT3"
      },
      "execution_count": 5,
      "outputs": []
    },
    {
      "cell_type": "code",
      "source": [
        "next(iter(data_iter))"
      ],
      "metadata": {
        "colab": {
          "base_uri": "https://localhost:8080/"
        },
        "id": "hviIRwjURGDl",
        "outputId": "de79309d-53dc-4a0d-ffbd-eea290dff23f"
      },
      "execution_count": 7,
      "outputs": [
        {
          "output_type": "execute_result",
          "data": {
            "text/plain": [
              "[tensor([[ 0.4098,  0.8343],\n",
              "         [-0.9889,  0.4543],\n",
              "         [ 1.4451,  0.3588],\n",
              "         [-0.5777, -0.1733],\n",
              "         [-1.9452,  0.2670],\n",
              "         [-0.1514,  1.6631],\n",
              "         [ 0.9863,  1.2491],\n",
              "         [ 0.7125, -0.6649],\n",
              "         [-0.8073, -1.8460],\n",
              "         [ 1.0550, -0.0661]]), tensor([[ 2.1835],\n",
              "         [ 0.6821],\n",
              "         [ 5.8838],\n",
              "         [ 3.6195],\n",
              "         [-0.5932],\n",
              "         [-1.7790],\n",
              "         [ 1.9218],\n",
              "         [ 7.8829],\n",
              "         [ 8.8628],\n",
              "         [ 6.5223]])]"
            ]
          },
          "metadata": {},
          "execution_count": 7
        }
      ]
    },
    {
      "cell_type": "code",
      "source": [
        "### Mengdefinisikan Model ###\n",
        "# `nn` is an abbreviation for neural networks\n",
        "from torch import nn\n",
        "\n",
        "net = nn.Sequential(nn.Linear(2, 1))"
      ],
      "metadata": {
        "id": "URDxWvG_RL5N"
      },
      "execution_count": 8,
      "outputs": []
    },
    {
      "cell_type": "code",
      "source": [
        "### Menginisialisasikan Model Parameter ###\n",
        "net[0].weight.data.normal_(0, 0.01)\n",
        "net[0].bias.data.fill_(0)"
      ],
      "metadata": {
        "colab": {
          "base_uri": "https://localhost:8080/"
        },
        "id": "1EuuEOk9RSwO",
        "outputId": "01081d27-bde4-4a3b-df4b-cb4432b397d9"
      },
      "execution_count": 9,
      "outputs": [
        {
          "output_type": "execute_result",
          "data": {
            "text/plain": [
              "tensor([0.])"
            ]
          },
          "metadata": {},
          "execution_count": 9
        }
      ]
    },
    {
      "cell_type": "code",
      "source": [
        "### Mengdefinisikan Fungsi Loss ###\n",
        "loss = nn.MSELoss()"
      ],
      "metadata": {
        "id": "hu8PHbieRYnl"
      },
      "execution_count": 10,
      "outputs": []
    },
    {
      "cell_type": "code",
      "source": [
        "### Mengdefinisikan Algoritma Optimisasi ###\n",
        "trainer = torch.optim.SGD(net.parameters(), lr=0.03)"
      ],
      "metadata": {
        "id": "DuX78BwxRddt"
      },
      "execution_count": 11,
      "outputs": []
    },
    {
      "cell_type": "code",
      "source": [
        "### Training Data ###\n",
        "num_epochs = 3\n",
        "for epoch in range(num_epochs):\n",
        "    for X, y in data_iter:\n",
        "        l = loss(net(X) ,y)\n",
        "        trainer.zero_grad()\n",
        "        l.backward()\n",
        "        trainer.step()\n",
        "    l = loss(net(features), labels)\n",
        "    print(f'epoch {epoch + 1}, loss {l:f}')"
      ],
      "metadata": {
        "colab": {
          "base_uri": "https://localhost:8080/"
        },
        "id": "goCMh8WsRkL_",
        "outputId": "3a5b1791-25c1-451b-ae23-5c70aacde1cf"
      },
      "execution_count": 12,
      "outputs": [
        {
          "output_type": "stream",
          "name": "stdout",
          "text": [
            "epoch 1, loss 0.000170\n",
            "epoch 2, loss 0.000102\n",
            "epoch 3, loss 0.000104\n"
          ]
        }
      ]
    },
    {
      "cell_type": "code",
      "source": [
        "## Komparasi hasil data traininig dengan data aktual###\n",
        "w = net[0].weight.data\n",
        "print('error in estimating w:', true_w - w.reshape(true_w.shape))\n",
        "b = net[0].bias.data\n",
        "print('error in estimating b:', true_b - b)"
      ],
      "metadata": {
        "colab": {
          "base_uri": "https://localhost:8080/"
        },
        "id": "Lmk0uHzYRq3f",
        "outputId": "fa203d27-c0f0-4d49-d968-102a707d4aa4"
      },
      "execution_count": 13,
      "outputs": [
        {
          "output_type": "stream",
          "name": "stdout",
          "text": [
            "error in estimating w: tensor([0.0005, 0.0005])\n",
            "error in estimating b: tensor([0.0006])\n"
          ]
        }
      ]
    }
  ]
}