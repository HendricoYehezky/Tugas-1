{
  "nbformat": 4,
  "nbformat_minor": 0,
  "metadata": {
    "colab": {
      "name": "Bab 2 (Data manipulation).ipynb",
      "provenance": [],
      "authorship_tag": "ABX9TyM1yj8iGPgbkAf2+0twF+MK",
      "include_colab_link": true
    },
    "kernelspec": {
      "name": "python3",
      "display_name": "Python 3"
    },
    "language_info": {
      "name": "python"
    }
  },
  "cells": [
    {
      "cell_type": "markdown",
      "metadata": {
        "id": "view-in-github",
        "colab_type": "text"
      },
      "source": [
        "<a href=\"https://colab.research.google.com/github/HendricoYehezky/Tugas-1/blob/main/Bab_2_(Data_manipulation).ipynb\" target=\"_parent\"><img src=\"https://colab.research.google.com/assets/colab-badge.svg\" alt=\"Open In Colab\"/></a>"
      ]
    },
    {
      "cell_type": "code",
      "execution_count": null,
      "metadata": {
        "colab": {
          "base_uri": "https://localhost:8080/"
        },
        "id": "9m1C1HCTFbqm",
        "outputId": "e02c32cc-800e-481b-ba1b-0d3bd0745ca0"
      },
      "outputs": [
        {
          "output_type": "stream",
          "name": "stdout",
          "text": [
            "tensor([ 0.,  1.,  2.,  3.,  4.,  5.,  6.,  7.,  8.,  9., 10., 11.])\n"
          ]
        }
      ],
      "source": [
        "### Untuk memulai platform PYTORCH, kita dapat memanggil modul torch ###\n",
        "### Sebuah tensor merepresentasikan sebuah (multi dimensi) susunan dengan nilai-nilai numerik di dalamnya ####\n",
        "### Sebuah susunan nilai-nilai numerik dengan satu sumbu atas sebuah tensor dapat disebut sebagai sebuah vektor ###\n",
        "### Sebuah tensor yang memiliki dua sumbu disebut sebagai sebuah matriks ###\n",
        "### Sebuah tensor yang memiliki sejumlah sumbu katakanlah k sumbu, maka dapat disebut sebagai tensor dengan orde-k ###\n",
        "import torch\n",
        "\n",
        "### Untuk membuat sebuah vektor dalam platform PYTORCH, kita dapat membuat susunan nilai-nilai numerik di dalanya yang dimulai dari 0 sampai dengan n###\n",
        "x = torch.arange(12, dtype=torch.float32)\n",
        "print (x)"
      ]
    },
    {
      "cell_type": "code",
      "source": [
        "### Kita dapat mengecek ukuran sebuah tensor (panjang data atas tiap sumbu) dengan melakukan inspeksi properti bentuk (shape) sebuah tensor ###\n",
        "x.shape"
      ],
      "metadata": {
        "colab": {
          "base_uri": "https://localhost:8080/"
        },
        "id": "e4Gy8XTnJ7Es",
        "outputId": "b798e7a8-bb7b-4f93-d6e0-19e1a0b83cf9"
      },
      "execution_count": null,
      "outputs": [
        {
          "output_type": "execute_result",
          "data": {
            "text/plain": [
              "torch.Size([12])"
            ]
          },
          "metadata": {},
          "execution_count": 5
        }
      ]
    },
    {
      "cell_type": "code",
      "source": [
        "### Jika kita ingin mengetahui jumlah elemn di dalam sebuah tensor, yaitu hasil perkalian dari ukuran elemen-elemen didalamnya dengan perintah sebagai berikut ###\n",
        "x.numel()"
      ],
      "metadata": {
        "colab": {
          "base_uri": "https://localhost:8080/"
        },
        "id": "hRjBBE-PKGlK",
        "outputId": "51e5c763-8698-4ca8-c4cc-338fcdc55732"
      },
      "execution_count": null,
      "outputs": [
        {
          "output_type": "execute_result",
          "data": {
            "text/plain": [
              "12"
            ]
          },
          "metadata": {},
          "execution_count": 9
        }
      ]
    },
    {
      "cell_type": "code",
      "source": [
        "\n",
        "### Untuk merubah bentuk dari sebuah tersor tanpa mengubah jumlah elemen-elemennya atau nilai-nilainya, kita dapat menggunakan modul berikut ini ####\n",
        "X = x.reshape(3, 4)\n",
        "print(X)"
      ],
      "metadata": {
        "colab": {
          "base_uri": "https://localhost:8080/"
        },
        "id": "C8pe7ndzKLGT",
        "outputId": "ca221cfa-458d-4336-e04b-356b41ef7c5f"
      },
      "execution_count": null,
      "outputs": [
        {
          "output_type": "stream",
          "name": "stdout",
          "text": [
            "tensor([[ 0.,  1.,  2.,  3.],\n",
            "        [ 4.,  5.,  6.,  7.],\n",
            "        [ 8.,  9., 10., 11.]])\n"
          ]
        }
      ]
    },
    {
      "cell_type": "code",
      "source": [
        "### Selanjutnya jika kita ingin menginisialisasikan matriks X di atas dengan mengganti input nilai numeriknya dengan nol, satu ataupun suatu konstanta, kita dapat menggunakan modul berikut ini ###\n",
        "torch.zeros((2, 3, 4))"
      ],
      "metadata": {
        "colab": {
          "base_uri": "https://localhost:8080/"
        },
        "id": "Ld3nSb2qRzqn",
        "outputId": "f21cc371-5946-4a45-c831-77f05d644735"
      },
      "execution_count": null,
      "outputs": [
        {
          "output_type": "execute_result",
          "data": {
            "text/plain": [
              "tensor([[[1., 1., 1., 1.],\n",
              "         [1., 1., 1., 1.],\n",
              "         [1., 1., 1., 1.]],\n",
              "\n",
              "        [[1., 1., 1., 1.],\n",
              "         [1., 1., 1., 1.],\n",
              "         [1., 1., 1., 1.]]])"
            ]
          },
          "metadata": {},
          "execution_count": 15
        }
      ]
    },
    {
      "cell_type": "code",
      "source": [
        "torch.ones((2, 3, 4))"
      ],
      "metadata": {
        "colab": {
          "base_uri": "https://localhost:8080/"
        },
        "id": "fmaqw-waSpyi",
        "outputId": "450ae3dd-2b88-4ccf-ee5d-39d564d46037"
      },
      "execution_count": null,
      "outputs": [
        {
          "output_type": "execute_result",
          "data": {
            "text/plain": [
              "tensor([[[1., 1., 1., 1.],\n",
              "         [1., 1., 1., 1.],\n",
              "         [1., 1., 1., 1.]],\n",
              "\n",
              "        [[1., 1., 1., 1.],\n",
              "         [1., 1., 1., 1.],\n",
              "         [1., 1., 1., 1.]]])"
            ]
          },
          "metadata": {},
          "execution_count": 16
        }
      ]
    },
    {
      "cell_type": "code",
      "source": [
        "### Seringkali, kita ingin menginput nilai -nilai numerik secara random atas elemen-elemen di dalam sebuah tensor dengan distribusi probabilitas tertentu ###\n",
        "### Sebagai contoh, kita akan mengisi setiap elemen secara random terdistribusi normal ( mean = 0, dan sd =1) dalam tensor dengan ukuran 3  untuk keempat vektor di bawah ini###\n",
        "torch.randn(3, 4)"
      ],
      "metadata": {
        "colab": {
          "base_uri": "https://localhost:8080/"
        },
        "id": "GR05goFySsDo",
        "outputId": "72dd3dfb-2ccf-4d40-99cc-395eacb1753d"
      },
      "execution_count": null,
      "outputs": [
        {
          "output_type": "execute_result",
          "data": {
            "text/plain": [
              "tensor([[ 0.6808,  0.7565, -0.0263,  1.3932],\n",
              "        [ 0.5714,  0.6415, -2.0569,  1.6451],\n",
              "        [ 1.2170, -0.0326, -0.3462, -1.1795]])"
            ]
          },
          "metadata": {},
          "execution_count": 19
        }
      ]
    },
    {
      "cell_type": "code",
      "source": [
        "### Kita juga dapat membuat setiap elemen dalam tensor dalam bentuk tensor juga, yang ditunjukkan sbagai berikut ###\n",
        "torch.tensor([[2,1,4,3],[1,2,3,4],[4,3,2,1]])"
      ],
      "metadata": {
        "colab": {
          "base_uri": "https://localhost:8080/"
        },
        "id": "kIFZatTETJ1I",
        "outputId": "4407b5ad-9c7d-4e43-c5e2-feaf4e280638"
      },
      "execution_count": null,
      "outputs": [
        {
          "output_type": "execute_result",
          "data": {
            "text/plain": [
              "tensor([[2, 1, 4, 3],\n",
              "        [1, 2, 3, 4],\n",
              "        [4, 3, 2, 1]])"
            ]
          },
          "metadata": {},
          "execution_count": 20
        }
      ]
    }
  ]
}